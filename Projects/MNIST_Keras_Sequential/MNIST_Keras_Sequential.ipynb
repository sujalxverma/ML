{
  "cells": [
    {
      "cell_type": "code",
      "execution_count": null,
      "metadata": {
        "id": "J0CJbq9YSih0"
      },
      "outputs": [],
      "source": [
        "import tensorflow as tf\n",
        "fashion_mnist = tf.keras.datasets.fashion_mnist.load_data()"
      ]
    },
    {
      "cell_type": "code",
      "execution_count": null,
      "metadata": {
        "id": "TIY2sdZ14mKE"
      },
      "outputs": [],
      "source": [
        "(X_train_full,y_train_full),(X_test,y_test) = fashion_mnist\n",
        "X_train,y_train = X_train_full[:-5000],y_train_full[:-5000]\n",
        "X_valid,y_valid = X_train_full[-5000:],y_train_full[-5000:]"
      ]
    },
    {
      "cell_type": "code",
      "execution_count": 5,
      "metadata": {
        "id": "7AdjfsOG5QmZ"
      },
      "outputs": [],
      "source": [
        "X_train,X_valid,X_test = X_train/255,X_valid/255,X_test/255"
      ]
    },
    {
      "cell_type": "code",
      "execution_count": 6,
      "metadata": {
        "id": "loluJfdj5Dfj"
      },
      "outputs": [],
      "source": [
        "class_names = [\n",
        "    \"T-shirt/top\",\n",
        "    \"Sandal\",\n",
        "    \"Shirt\",\n",
        "    \"Trouser\",\n",
        "    \"Sneaker\",\n",
        "    \"Pullover\",\n",
        "    \"Dress\",\n",
        "    \"Coat\",\n",
        "    \"Bag\",\n",
        "    \"Ankle boot\"\n",
        "]\n",
        "# class_names[y_train[0]]"
      ]
    },
    {
      "cell_type": "code",
      "execution_count": null,
      "metadata": {
        "id": "XtkrirWW6E1E"
      },
      "outputs": [],
      "source": [
        "# first, randomly assigns random weights for hidden and output layer, also they\n",
        "# remain same whenever the code is executed.\n",
        "tf.random.set_seed(42)\n",
        "# model = tf.keras.Sequential()\n",
        "# model.add(tf.keras.layers.Input(shape=[28,28]))\n",
        "# model.add(tf.keras.layers.Flatten())\n",
        "# model.add(tf.keras.layers.Dense(300,activation='relu'))\n",
        "# model.add(tf.keras.layers.Dense(100,activation='relu'))\n",
        "# model.add(tf.keras.layers.Dense(10,activation='softmax'))\n",
        "model = tf.keras.Sequential([\n",
        "    tf.keras.layers.Flatten(input_shape=[28, 28]),      # Flattens 28x28 image into 784-length vector\n",
        "    tf.keras.layers.Dense(300, activation=\"relu\"),      # First hidden layer with 300 neurons + ReLU\n",
        "    tf.keras.layers.Dense(100, activation=\"relu\"),      # Second hidden layer with 100 neurons + ReLU\n",
        "     tf.keras.layers.Dense(50, activation=\"relu\"),      # Third hidden layer with 100 neurons + ReLU\n",
        "    tf.keras.layers.Dense(10, activation=\"softmax\")     # Output layer with 10 neurons (classes), softmax activation\n",
        "])\n",
        "\n",
        "print(model.summary())\n"
      ]
    },
    {
      "cell_type": "code",
      "execution_count": null,
      "metadata": {
        "id": "wpY4qkPR6yf9"
      },
      "outputs": [],
      "source": [
        "weights,biases = model.get_layer(\"dense_12\").get_weights()\n",
        "print(weights)"
      ]
    },
    {
      "cell_type": "code",
      "execution_count": 32,
      "metadata": {
        "id": "Z_9OFgRh_8mk"
      },
      "outputs": [],
      "source": [
        "model.compile(loss=\"sparse_categorical_crossentropy\",optimizer=\"sgd\",metrics=[\"accuracy\"])\n"
      ]
    },
    {
      "cell_type": "code",
      "execution_count": null,
      "metadata": {
        "id": "QwCWrdsiAs7o"
      },
      "outputs": [],
      "source": [
        "history = model.fit(X_train,y_train,epochs=30,validation_data=(X_valid,y_valid))\n"
      ]
    },
    {
      "cell_type": "code",
      "execution_count": null,
      "metadata": {
        "id": "xjfh1QDUDWa6"
      },
      "outputs": [],
      "source": [
        "import pandas as pd\n",
        "import numpy as np\n",
        "import matplotlib.pyplot as plt\n",
        "pd.DataFrame(history.history).plot(\n",
        "    figsize=(8, 5),\n",
        "    xlim=[0, 29],\n",
        "    ylim=[0, 1],\n",
        "    grid=True,\n",
        "    xlabel=\"Epoch\",\n",
        "    style=[\"r--\", \"r-\", \"b--\", \"b-\"]  # styles for different metrics\n",
        ")\n",
        "plt.show()\n"
      ]
    },
    {
      "cell_type": "code",
      "execution_count": null,
      "metadata": {
        "id": "K8gG-NRoHzVQ"
      },
      "outputs": [],
      "source": [
        "X_new = X_test[:3]\n",
        "y_proba = model.predict(X_new)\n",
        "y_proba.round(2)\n",
        "\n",
        "y_pred = y_proba.argmax(axis=-1)   # returns the max probability for a single instance\n",
        "y_pred\n",
        "np.array(class_names)[y_pred]"
      ]
    }
  ],
  "metadata": {
    "colab": {
      "provenance": []
    },
    "kernelspec": {
      "display_name": "Python 3",
      "name": "python3"
    },
    "language_info": {
      "codemirror_mode": {
        "name": "ipython",
        "version": 3
      },
      "file_extension": ".py",
      "mimetype": "text/x-python",
      "name": "python",
      "nbconvert_exporter": "python",
      "pygments_lexer": "ipython3",
      "version": "3.13.1"
    }
  },
  "nbformat": 4,
  "nbformat_minor": 0
}
