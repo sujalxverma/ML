{
  "nbformat": 4,
  "nbformat_minor": 0,
  "metadata": {
    "colab": {
      "provenance": []
    },
    "kernelspec": {
      "name": "python3",
      "display_name": "Python 3"
    },
    "language_info": {
      "name": "python"
    }
  },
  "cells": [
    {
      "cell_type": "code",
      "execution_count": null,
      "metadata": {
        "id": "Tfqsypla2jd0"
      },
      "outputs": [],
      "source": [
        "import pandas as pd\n",
        "import matplotlib.pyplot as plt\n",
        "import numpy as np\n",
        "from sklearn.linear_model import LogisticRegression\n",
        "from sklearn.model_selection import train_test_split\n",
        "from sklearn.preprocessing import StandardScaler\n",
        "from google.colab import files\n",
        "import seaborn as sns\n",
        "uploaded = files.upload()\n",
        "\n"
      ]
    },
    {
      "cell_type": "code",
      "source": [
        "cancerData = pd.read_csv(\"data.csv\")\n",
        "columns = cancerData.columns\n",
        "targetCol = 'diagnosis'\n",
        "cancerData['diagnosis'] = cancerData['diagnosis'].map({\"M\": 1, \"B\": 0})\n",
        "targetData = cancerData[targetCol]\n",
        "# visualize NAs in heatmap\n",
        "sns.heatmap(cancerData.isnull(), yticklabels=False, cbar=False, cmap='viridis')   # to show how null values count in graphical way.\n",
        "# plt.show()\n",
        "\n",
        "cancerData.drop(columns=[targetCol,'Unnamed: 32','id'],inplace=True)\n",
        "cancerData"
      ],
      "metadata": {
        "id": "a0e6vZ5O6xAQ"
      },
      "execution_count": null,
      "outputs": []
    },
    {
      "cell_type": "code",
      "source": [
        "from sklearn.preprocessing import StandardScaler\n",
        "scaler = StandardScaler()\n",
        "cancerData = scaler.fit_transform(cancerData)\n",
        "cancerData = pd.DataFrame(cancerData,columns = columns[2:-1])\n",
        "cancerData"
      ],
      "metadata": {
        "id": "9UEUNQYF9y8o"
      },
      "execution_count": null,
      "outputs": []
    },
    {
      "cell_type": "code",
      "source": [
        "%%time\n",
        "X_train,X_test,y_train,y_test = train_test_split(cancerData,targetData,test_size=0.3,random_state=42)\n",
        "# model = LogisticRegression()\n",
        "# model.fit(X_train,y_train)\n",
        "\n",
        "c_parameter = []\n",
        "accuracy_train = []\n",
        "accuracy_test = []\n",
        "\n",
        "for i in np.arange(0.01,10,0.01):\n",
        "  model = LogisticRegression(C=i)\n",
        "  model.fit(X_train,y_train)\n",
        "  c_parameter.append(i)\n",
        "  accuracy_train.append(model.score(X_train,y_train))\n",
        "  accuracy_test.append(model.score(X_test,y_test))"
      ],
      "metadata": {
        "colab": {
          "base_uri": "https://localhost:8080/"
        },
        "id": "Y3qAbUKK_Bvv",
        "outputId": "ea574b09-bcd3-46c2-f1e5-84a30b9c3232"
      },
      "execution_count": null,
      "outputs": [
        {
          "output_type": "stream",
          "name": "stdout",
          "text": [
            "CPU times: user 27 s, sys: 68.3 ms, total: 27.1 s\n",
            "Wall time: 15.2 s\n"
          ]
        }
      ]
    },
    {
      "cell_type": "code",
      "source": [
        "plt.plot(c_parameter,accuracy_train,label='Training Accuracy')\n",
        "plt.plot(c_parameter,accuracy_test,label='Testing Accuracy')\n",
        "plt.legend()\n",
        "plt.show()"
      ],
      "metadata": {
        "id": "MVIKj-44AINk"
      },
      "execution_count": null,
      "outputs": []
    },
    {
      "cell_type": "code",
      "source": [
        "from sklearn.linear_model import LogisticRegressionCV\n",
        "C_model = LogisticRegressionCV(cv=10,Cs=20,max_iter=1000).fit(X_train,y_train)\n",
        "C_model.score(X_test,y_test)\n",
        "best_C = C_model.C_[0]"
      ],
      "metadata": {
        "id": "KX6cMSMRA-av"
      },
      "execution_count": null,
      "outputs": []
    },
    {
      "cell_type": "code",
      "source": [
        "model = LogisticRegression(C=best_C)\n",
        "model.fit(X_train,y_train)\n",
        "model.score(X_train,y_train)\n",
        "model.score(X_test,y_test)\n",
        "\n",
        "# Hence our model is about 98% accurate on test data"
      ],
      "metadata": {
        "colab": {
          "base_uri": "https://localhost:8080/"
        },
        "id": "xQks_6WeCFS8",
        "outputId": "049eca59-56f6-48b6-fe89-ae67a468d46e"
      },
      "execution_count": null,
      "outputs": [
        {
          "output_type": "execute_result",
          "data": {
            "text/plain": [
              "0.9849246231155779"
            ]
          },
          "metadata": {},
          "execution_count": 42
        }
      ]
    }
  ]
}